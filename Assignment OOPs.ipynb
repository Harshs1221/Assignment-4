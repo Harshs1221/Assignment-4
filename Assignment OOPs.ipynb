{
 "cells": [
  {
   "cell_type": "code",
   "execution_count": 13,
   "id": "8f29330e-928c-42c3-80ac-d1ccfe63ca9e",
   "metadata": {},
   "outputs": [],
   "source": [
    "#Q1. What is Object-Oriented Programming (OOP)?\n",
    "\"\"\"\n",
    "Ans1. Object-Oriented Programming(OOP) is a programming paradigm that uses object and classes to structure\n",
    "      and organize code.\n",
    "      OOP helps you to arrange the required functions in respective classes.\n",
    "\"\"\""
   ]
  },
  {
   "cell_type": "code",
   "execution_count": 15,
   "id": "06a2cbed-7a89-4bf5-a52f-b0e4703a6a5b",
   "metadata": {},
   "outputs": [],
   "source": [
    "#Q2.  What is a class in OOP?\n",
    "\"\"\"\n",
    "Ans2. In Object-Oriented Programming (OOP), Class is a blueprint/template for creating an object.\n",
    "      Example - We are the diferent object of class human being.\n",
    "     \n",
    "      class Car:\n",
    "        def __init__(self,brand,colour):\n",
    "            self.brand = brand\n",
    "            self.colour = colour\n",
    "\n",
    "        def car_info(self):\n",
    "            print (self.brand,\"car in\",self.colour,\"looks stunning.\")\n",
    "\n",
    "        Here, Car is a class with attributes brand and colour, and a method car_info. \n",
    "\"\"\""
   ]
  },
  {
   "cell_type": "code",
   "execution_count": 17,
   "id": "8ba5da68-bf24-4d99-b646-e8e0bd8e3de1",
   "metadata": {},
   "outputs": [],
   "source": [
    "#Q3.  What is an object in OOP?\n",
    "\"\"\"\n",
    "Ans3. In OOP, an object is an instance of a class. It represents a specific entity with its own data\n",
    "      and behaviour, defined by the class from which it is creatd.\n",
    "      class Car:\n",
    "        def __init__(self,brand,colour):\n",
    "            self.brand = brand\n",
    "            self.colour = colour\n",
    "\n",
    "        def car_info(self):\n",
    "            print (self.brand,\"car in\",self.colour,\"looks stunning.\")\n",
    "\n",
    "        car1 = Car(\"TATA\",\"Black\")\n",
    "\n",
    "        Here , car1 is an object(instance) of the car with \n",
    "\"\"\""
   ]
  },
  {
   "cell_type": "code",
   "execution_count": 19,
   "id": "e84fba2c-37ad-4d9e-b398-2ec82f0ec1e1",
   "metadata": {},
   "outputs": [],
   "source": [
    "#Q4. What is the difference between abstraction and encapsulation?\n",
    "\"\"\"\n",
    "Ans4. Abstraction is a concept of hiding the complex implementation details of a class and only \n",
    "      showing the essential feature to the user.\n",
    "      \n",
    "\"\"\""
   ]
  },
  {
   "cell_type": "code",
   "execution_count": 31,
   "id": "47edb8b5-7a05-471e-b461-7efbb93ed00d",
   "metadata": {},
   "outputs": [],
   "source": [
    "\"\"\"Here, shape is a abstract class with abstract method area. We will then create\n",
    "   subclasses square_1 and rectangle_1 that implement the area method.\"\"\"\n",
    "from abc import ABC, abstractmethod\n",
    "\n",
    "class Shape():\n",
    "    @abstractmethod\n",
    "    def area(self):\n",
    "        pass"
   ]
  },
  {
   "cell_type": "code",
   "execution_count": 33,
   "id": "5e38c683-6757-4894-a174-82f4169c55a4",
   "metadata": {},
   "outputs": [],
   "source": [
    "class square_1(Shape):\n",
    "    def area(self):\n",
    "        print(\"area of a square is side * side\")\n",
    "        \n",
    "    "
   ]
  },
  {
   "cell_type": "code",
   "execution_count": 35,
   "id": "d7e6ab88-c362-4187-a5c3-a860b8e135be",
   "metadata": {},
   "outputs": [],
   "source": [
    "class rectangle_1(Shape):\n",
    "    def area(self):\n",
    "        print(\"area of a rectangle is Length* breadth\")\n",
    "\n",
    "# shape is a abstract class with area method. The square_1 and rectangle_1 classes implement the \n",
    "# area method, hiding the complex details of area."
   ]
  },
  {
   "cell_type": "code",
   "execution_count": 49,
   "id": "4f6e273c-4449-43a1-9d29-3c4c5aabd927",
   "metadata": {},
   "outputs": [],
   "source": [
    "a = square_1()\n",
    "b = rectangle_1()"
   ]
  },
  {
   "cell_type": "code",
   "execution_count": 53,
   "id": "ba103cf4-5f7b-4ac2-a6b1-be0dd06e3e2d",
   "metadata": {},
   "outputs": [
    {
     "name": "stdout",
     "output_type": "stream",
     "text": [
      "area of a square is side * side\n",
      "area of a rectangle is Length* breadth\n"
     ]
    }
   ],
   "source": [
    "a.area()\n",
    "b.area()"
   ]
  },
  {
   "cell_type": "code",
   "execution_count": null,
   "id": "decfd821-fbfd-4444-a8c0-38f0449de331",
   "metadata": {},
   "outputs": [],
   "source": [
    "\"\"\"\n",
    "Ans4. Encapsulation : \n",
    "                Encapsulation is a practice of wrapping data(attributes) and functions(method) into\n",
    "                a single unit.\n",
    "\"\"\""
   ]
  },
  {
   "cell_type": "code",
   "execution_count": 81,
   "id": "1f9ffa77-e3f3-4725-b8c6-4f1f7f1ebd5a",
   "metadata": {},
   "outputs": [],
   "source": [
    "class Bank():\n",
    "    def __init__(self,balance):\n",
    "        self.__balance = balance\n",
    "        \n",
    "    def deposit_money(self,amount):\n",
    "        self.__balance = self.__balance + amount\n",
    "        print(\"The amount\",amount, \"deposit successfully\")\n",
    "    def withdraw_money(self,amount):\n",
    "        if amount > self.__balance:\n",
    "            print(\"Not enough balance\")\n",
    "        elif amount <= self.__balance:\n",
    "            self.__balance = self.__balance - amount\n",
    "            print(amount, \"withdraw from your account\")\n",
    "    def check_balance(self):\n",
    "        print(self.__balance)\n",
    "\n",
    "\"\"\"\n",
    "Here, Bank class encapsulates the balance attribute and proviode method to interact with it.\n",
    "The balance attribute is a private and can only be accessed and modified through public \n",
    "methods deposit_money, withdraw_money and check_balance.\n",
    "\"\"\"\n",
    "            "
   ]
  },
  {
   "cell_type": "code",
   "execution_count": 21,
   "id": "6e7b9c86-365f-4867-817e-4591ea4f2640",
   "metadata": {},
   "outputs": [],
   "source": [
    "#Q5. What are dunder methods in Python?\n",
    "\"\"\"\n",
    "Ans5. Dunder method are also known as magic methods or special methods, are predefined methods\n",
    "      in python that have double underscore (__) at the begining and end of their names.\n",
    "      - These methods allows you to define the behaviour of objects for built-in operations, such as\n",
    "        arithmetic operations, comparison and type conversions.\n",
    "\n",
    "     Example : __init__ : initializes a new object\n",
    "               __add__ : defines the behaviour of the addition opeator.\n",
    "\"\"\""
   ]
  },
  {
   "cell_type": "code",
   "execution_count": 118,
   "id": "049a0bbb-9949-4dc5-a303-7964f488a267",
   "metadata": {},
   "outputs": [],
   "source": [
    "#Q6. Explain the concept of inheritance in OOP.\n",
    "\"\"\"\n",
    "Ans6. When one class (child/derived) inherit the attributes and methods from another class(parent/base).\n",
    "\"\"\"\n",
    "\n",
    "class Vehicle:\n",
    "    def __init__(self,brand,colour):\n",
    "        self.brand =brand\n",
    "        self.colour = colour\n",
    "\n",
    "    def method_base(self):\n",
    "        print(f'The {self.colour} on {self.brand} looks amazing')\n",
    "\n",
    "class bike(Vehicle):\n",
    "    def method_base(self):\n",
    "        print(f'The {self.colour} on {self.brand} looks amazing')\n",
    "\n",
    "class car(Vehicle):\n",
    "    def method_base(self):\n",
    "        print(f'The {self.colour} on {self.brand} looks amazing')\n",
    "\n",
    "\"\"\" Here, vehicle is a parent class. bike and car is child class that inherit the attribute and method\n",
    "    from vehicle class.\n",
    "\"\"\""
   ]
  },
  {
   "cell_type": "code",
   "execution_count": 120,
   "id": "15d953fa-38c7-4a60-a866-db65c93f5a5e",
   "metadata": {},
   "outputs": [],
   "source": [
    "b = bike(\"Suzuki\",\"Blue\")\n",
    "c = car(\"Audi\",\"balck\")"
   ]
  },
  {
   "cell_type": "code",
   "execution_count": 122,
   "id": "37021099-f458-4103-9c1e-f380ee709268",
   "metadata": {},
   "outputs": [
    {
     "name": "stdout",
     "output_type": "stream",
     "text": [
      "The Blue on Suzuki looks amazing\n",
      "The balck on Audi looks amazing\n"
     ]
    }
   ],
   "source": [
    "b.method_base()\n",
    "c.method_base()\n",
    "\n"
   ]
  },
  {
   "cell_type": "code",
   "execution_count": 67,
   "id": "0706325c-a34e-4613-8768-c308b0d2338b",
   "metadata": {},
   "outputs": [],
   "source": [
    "#Q7. What is polymorphism in OOP?\n",
    "\"\"\"\n",
    "Ans7. Poly means many and morphism means forms/state.\n",
    "      Polymorphism refers to an object taking several forms depending on the methods/data.   \n",
    "\"\"\"\n",
    "class data_analyst:\n",
    "    def syllabus(self):\n",
    "        print(\"This is the syllabus for data anlyst\")\n",
    "\n",
    "class web_dev:\n",
    "    def syllabus(self):\n",
    "        print(\"This is the syllabus for web dev\")\n",
    "        \n",
    "        "
   ]
  },
  {
   "cell_type": "code",
   "execution_count": 69,
   "id": "12152818-ad1f-4274-9376-d74f16b748e7",
   "metadata": {},
   "outputs": [],
   "source": [
    "da = data_analyst()"
   ]
  },
  {
   "cell_type": "code",
   "execution_count": 71,
   "id": "470beedc-2729-4131-858b-4dd4d7ab3040",
   "metadata": {},
   "outputs": [],
   "source": [
    "wd = web_dev()"
   ]
  },
  {
   "cell_type": "code",
   "execution_count": 73,
   "id": "656cb7c0-3e0f-4653-a1a9-887ba0aa820b",
   "metadata": {},
   "outputs": [],
   "source": [
    "obj1 = [da,wd]"
   ]
  },
  {
   "cell_type": "code",
   "execution_count": 75,
   "id": "9c5cf998-1671-4d82-b686-358499e6662b",
   "metadata": {},
   "outputs": [],
   "source": [
    "def func_parc(obj1):\n",
    "    for i in obj1:\n",
    "        i.syllabus()\n",
    "    "
   ]
  },
  {
   "cell_type": "code",
   "execution_count": 79,
   "id": "b51f09c1-768d-4ffa-9ac8-9bc0ba4b86a8",
   "metadata": {},
   "outputs": [
    {
     "name": "stdout",
     "output_type": "stream",
     "text": [
      "This is the syllabus for data anlyst\n",
      "This is the syllabus for web dev\n"
     ]
    }
   ],
   "source": [
    "func_parc(obj1)  # here we can say that this function behaves differently depend upon which object is passed."
   ]
  },
  {
   "cell_type": "code",
   "execution_count": 103,
   "id": "bc71105d-9604-4760-9fe6-164d6c04d233",
   "metadata": {},
   "outputs": [],
   "source": [
    "\"\"\"Polymorphism in OOP take place in two ways:\n",
    "1. Method Overloading : Multiple method in same class can have same name but different parameter\n",
    "\"\"\"\n",
    "class Car:\n",
    "    def car1(self):\n",
    "        print(\"This is a car1 car\")\n",
    "    def car1(self,name = \"\"):\n",
    "        print(\"This is a car1 car\",name)\n",
    "    def car1(self,name = \"\",colour = \"\"):\n",
    "        print(\"This is car1 car\",colour,name)\n",
    "    \n",
    "    "
   ]
  },
  {
   "cell_type": "code",
   "execution_count": 105,
   "id": "2f62a298-1d5b-4c3b-864c-b089bf966754",
   "metadata": {},
   "outputs": [],
   "source": [
    "c1 = Car()"
   ]
  },
  {
   "cell_type": "code",
   "execution_count": 107,
   "id": "2c443108-9cdf-42f4-b7b6-2e48d7843d70",
   "metadata": {},
   "outputs": [
    {
     "name": "stdout",
     "output_type": "stream",
     "text": [
      "This is car1 car  \n"
     ]
    }
   ],
   "source": [
    "c1.car1()"
   ]
  },
  {
   "cell_type": "code",
   "execution_count": 109,
   "id": "7fe72530-70d5-421e-b6f7-e4e3959c9a24",
   "metadata": {},
   "outputs": [
    {
     "name": "stdout",
     "output_type": "stream",
     "text": [
      "This is car1 car  BMW\n"
     ]
    }
   ],
   "source": [
    "c1.car1(\"BMW\")"
   ]
  },
  {
   "cell_type": "code",
   "execution_count": 111,
   "id": "9cd4b428-b633-4bf6-9e98-ceec60cce39b",
   "metadata": {},
   "outputs": [
    {
     "name": "stdout",
     "output_type": "stream",
     "text": [
      "This is car1 car White Audi\n"
     ]
    }
   ],
   "source": [
    "c1.car1(\"Audi\",\"White\")  \n",
    "\n",
    "#car1 method taking the differeent forms, the last method overload the previous one."
   ]
  },
  {
   "cell_type": "code",
   "execution_count": 113,
   "id": "600c49ab-a3a9-414a-9685-333a3753425c",
   "metadata": {},
   "outputs": [],
   "source": [
    "\"\"\"\n",
    "2. Overridding :\n",
    "            Method overridding means that a child class provides a specific implementation of a method\n",
    "            that is already defined in its parent class.\n",
    "            In simple terms, method in parent and child class with same signature, child class will be\n",
    "            executed.            \n",
    "\"\"\"\n",
    "class Animal:\n",
    "    def sound(self):\n",
    "        print(\"Some genric sound\")\n",
    "class Cat(Animal):\n",
    "    def sound(self):\n",
    "        print(\"Meow-Meow\")\n"
   ]
  },
  {
   "cell_type": "code",
   "execution_count": 115,
   "id": "8495b4a2-5bed-488e-8347-b2a3fe0c8dac",
   "metadata": {},
   "outputs": [],
   "source": [
    "a = Animal()"
   ]
  },
  {
   "cell_type": "code",
   "execution_count": 117,
   "id": "8dae08d9-6505-4033-bf18-a60ab4a97d1d",
   "metadata": {},
   "outputs": [
    {
     "name": "stdout",
     "output_type": "stream",
     "text": [
      "Some genric sound\n"
     ]
    }
   ],
   "source": [
    "a.sound()"
   ]
  },
  {
   "cell_type": "code",
   "execution_count": 119,
   "id": "792a328f-d296-4cc1-b98e-ba3566689d42",
   "metadata": {},
   "outputs": [],
   "source": [
    "c= Cat()"
   ]
  },
  {
   "cell_type": "code",
   "execution_count": 121,
   "id": "03c5ec38-a2a3-4eac-b8ec-5a490ae1e24a",
   "metadata": {},
   "outputs": [
    {
     "name": "stdout",
     "output_type": "stream",
     "text": [
      "Meow-Meow\n"
     ]
    }
   ],
   "source": [
    "c.sound()"
   ]
  },
  {
   "cell_type": "code",
   "execution_count": 128,
   "id": "907f7836-6b78-458a-ac83-2e8e20894afe",
   "metadata": {},
   "outputs": [],
   "source": [
    "#Q8.  How is encapsulation achieved in Python?\n",
    "\"\"\"\n",
    "Ans8. Encapsulation is a practice of wrapping data(attributes) and functions(method) into a single unit.\n",
    "      \n",
    "      It also involves restricting direct access to some of the object's components to protect the \n",
    "      integrity of the data.\n",
    "\"\"\"\n",
    "class Bank():\n",
    "    def __init__(self,balance):\n",
    "        self.__balance = balance\n",
    "        \n",
    "    def deposit_money(self,amount):\n",
    "        self.__balance = self.__balance + amount\n",
    "        print(\"The amount\",amount, \"deposit successfully\")\n",
    "    def withdraw_money(self,amount):\n",
    "        if amount > self.__balance:\n",
    "            print(\"Not enough balance\")\n",
    "        elif amount <= self.__balance:\n",
    "            self.__balance = self.__balance - amount\n",
    "            print(amount, \"withdraw from your account\")\n",
    "    def check_balance(self):\n",
    "        print(\"total balance is\",self.__balance)\n",
    "\n",
    "\"\"\"\n",
    "Private attribute : __balance is a private attribute and cannot be accessed directly from outside of the class.\n",
    "Public methods : The deposit_money, withdraw_money and check_balance methods are the public and provide\n",
    "                 controlled access to the private methods.\n",
    "\n",
    "By using enscapsulation, you ensure that the balance attribute is accessed and modified in a controlled\n",
    "manner, protecting the integrity of the data.\n",
    "\"\"\"\n"
   ]
  },
  {
   "cell_type": "code",
   "execution_count": 130,
   "id": "102ab45a-87cb-4353-9393-8ffcf1313b87",
   "metadata": {},
   "outputs": [
    {
     "name": "stdout",
     "output_type": "stream",
     "text": [
      "total balance is 5000\n",
      "The amount 1000 deposit successfully\n"
     ]
    }
   ],
   "source": [
    "b = Bank(5000)\n",
    "b.check_balance()\n",
    "b.deposit_money(1000)"
   ]
  },
  {
   "cell_type": "code",
   "execution_count": 132,
   "id": "2f1aaeb5-2f2f-48d9-a1a9-aad81de5bfb7",
   "metadata": {},
   "outputs": [
    {
     "name": "stdout",
     "output_type": "stream",
     "text": [
      "total balance is 6000\n"
     ]
    }
   ],
   "source": [
    "b.check_balance()"
   ]
  },
  {
   "cell_type": "code",
   "execution_count": 200,
   "id": "dd36b795-8a5f-4ce1-94aa-d5167d9fde10",
   "metadata": {},
   "outputs": [],
   "source": [
    "#Q9. What is a constructor in Python?\n",
    "\"\"\"\n",
    "Ans9. A constructor is a special method called __init__ that is automatically invoked when object\n",
    "      of a class created.\n",
    "\n",
    "\"\"\"\n",
    "class Add1:\n",
    "    def __init__(self,a,b):\n",
    "        self.a = a\n",
    "        self.b = b\n",
    "    def __call__(self):\n",
    "        print( self.a + self.b)\n",
    "    "
   ]
  },
  {
   "cell_type": "code",
   "execution_count": 202,
   "id": "90a3daca-555d-499a-9236-0e0db64fe9fb",
   "metadata": {},
   "outputs": [],
   "source": [
    "a1 = Add1(4,5)"
   ]
  },
  {
   "cell_type": "code",
   "execution_count": 204,
   "id": "c1eb400c-0c28-4a3d-ab7d-d79de4880e8b",
   "metadata": {},
   "outputs": [
    {
     "name": "stdout",
     "output_type": "stream",
     "text": [
      "9\n"
     ]
    }
   ],
   "source": [
    "a1()"
   ]
  },
  {
   "cell_type": "code",
   "execution_count": null,
   "id": "1177a736-03c5-4490-93ff-87f6c6f0425e",
   "metadata": {},
   "outputs": [],
   "source": [
    "#Q10.  What are class and static methods in Python? \n",
    "\"\"\"\n",
    "Ans10.  Class methods :\n",
    "                Class methods are method that are bound to the class and not the instance of the\n",
    "                class. Thy can modify the class state that applies across all instances of the class.\n",
    "\n",
    "            - Decorator : @classmethod\n",
    "            - First parameter : cls(refers to class it self)\n",
    "\"\"\""
   ]
  },
  {
   "cell_type": "code",
   "execution_count": 41,
   "id": "25216336-d950-4e00-9510-15b10facdb6c",
   "metadata": {},
   "outputs": [],
   "source": [
    "#example class method\n",
    "class Pwskills:\n",
    "    mobile_num = 887876557\n",
    " \n",
    "    def __init__ (self,name):\n",
    "        self.name = name\n",
    "    @classmethod    \n",
    "    def change_mob(cls,mobile):\n",
    "        Pwskills.mobile_num = mobile\n",
    "    \n",
    "    @classmethod    \n",
    "    def detalis(cls,name):\n",
    "        return cls(name)\n",
    "\n",
    "    def student_details(self):\n",
    "        print(\"student details is\", self.name, Pwskills.mobile_num)"
   ]
  },
  {
   "cell_type": "code",
   "execution_count": 43,
   "id": "d47a0491-8cfc-40a8-821e-9e9d36a32bc8",
   "metadata": {},
   "outputs": [],
   "source": [
    "a1 = Pwskills.detalis(\"akki\")   # in class method you can directly access the method without creating in instance of class."
   ]
  },
  {
   "cell_type": "code",
   "execution_count": 45,
   "id": "5f5150f7-ffef-4dbe-98c4-fae24f16890c",
   "metadata": {},
   "outputs": [
    {
     "name": "stdout",
     "output_type": "stream",
     "text": [
      "student details is akki 887876557\n"
     ]
    }
   ],
   "source": [
    "a1.student_details()"
   ]
  },
  {
   "cell_type": "code",
   "execution_count": 47,
   "id": "b21a3026-b54a-457e-a414-d335ee8f11cd",
   "metadata": {},
   "outputs": [
    {
     "data": {
      "text/plain": [
       "887876557"
      ]
     },
     "execution_count": 47,
     "metadata": {},
     "output_type": "execute_result"
    }
   ],
   "source": [
    "a1.mobile_num      # class variable"
   ]
  },
  {
   "cell_type": "code",
   "execution_count": 49,
   "id": "3996a646-eaf6-47dc-9c95-b739a3972119",
   "metadata": {},
   "outputs": [],
   "source": [
    "a1.change_mob(77677665)   # using classmethod we can directly modify the state of class variable."
   ]
  },
  {
   "cell_type": "code",
   "execution_count": 123,
   "id": "b588b4a0-30f9-4d63-86d9-071862dff50b",
   "metadata": {},
   "outputs": [
    {
     "data": {
      "text/plain": [
       "77677665"
      ]
     },
     "execution_count": 123,
     "metadata": {},
     "output_type": "execute_result"
    }
   ],
   "source": [
    "Pwskills.mobile_num"
   ]
  },
  {
   "cell_type": "code",
   "execution_count": 53,
   "id": "b015a06c-fda5-4b5d-bb89-1bc2e330490d",
   "metadata": {},
   "outputs": [
    {
     "name": "stdout",
     "output_type": "stream",
     "text": [
      "student details is akki 77677665\n"
     ]
    }
   ],
   "source": [
    "a1.student_details()"
   ]
  },
  {
   "cell_type": "code",
   "execution_count": 55,
   "id": "ce753070-9bf5-48c5-a038-8f4f42db66fd",
   "metadata": {},
   "outputs": [],
   "source": [
    "\"\"\"\n",
    "Ans10.  Static Method :\n",
    "                Static methods are the methods that are bound to the class and not the instance\n",
    "                of the class. They do not modify the class state or instance state.\n",
    "\n",
    "            - Decorator : @staticmethod\n",
    "            - First Parameter : None (no self or cls)\n",
    "\"\"\"\n",
    "class Calculator1:\n",
    "\n",
    "    @staticmethod\n",
    "    def add(x,y):\n",
    "        print(x+y)\n"
   ]
  },
  {
   "cell_type": "code",
   "execution_count": 59,
   "id": "f5611de6-b02d-441f-99e5-fecc993df899",
   "metadata": {},
   "outputs": [],
   "source": [
    "a = Calculator1"
   ]
  },
  {
   "cell_type": "code",
   "execution_count": 63,
   "id": "0525212c-de90-41c8-8a3e-1a8f22198a30",
   "metadata": {},
   "outputs": [
    {
     "name": "stdout",
     "output_type": "stream",
     "text": [
      "15\n"
     ]
    }
   ],
   "source": [
    "a.add(7,8)"
   ]
  },
  {
   "cell_type": "code",
   "execution_count": 65,
   "id": "adbfa47c-dfbe-4476-a2be-c3cce3c1621d",
   "metadata": {},
   "outputs": [
    {
     "name": "stdout",
     "output_type": "stream",
     "text": [
      "14\n"
     ]
    }
   ],
   "source": [
    "Calculator1.add(9,5)"
   ]
  },
  {
   "cell_type": "code",
   "execution_count": 73,
   "id": "c489e6ab-76af-4ef9-8fac-0590b9cc2384",
   "metadata": {},
   "outputs": [],
   "source": [
    "#Q11. What is method overloading in Python?\n",
    "\"\"\"\n",
    "Ans11. When a class contain two or more methods with same name but different behaviour is called\n",
    "       method overloading.\n",
    "       Python does not support method overloading but it can be acheived through default arguments\n",
    "       and variable - length arguments.\n",
    "\"\"\"\n",
    "# for example:  Using default argument method overloading can be acheived\n",
    "class Adder1:\n",
    "    def add(self,a,b,c=0):\n",
    "        return a+b+c\n"
   ]
  },
  {
   "cell_type": "code",
   "execution_count": 77,
   "id": "d9eaa564-69b0-429c-8713-f77d7da87d65",
   "metadata": {},
   "outputs": [],
   "source": [
    "a = Adder1()"
   ]
  },
  {
   "cell_type": "code",
   "execution_count": 85,
   "id": "11449303-7694-4d3e-ba2e-2ae888720285",
   "metadata": {},
   "outputs": [
    {
     "data": {
      "text/plain": [
       "9"
      ]
     },
     "execution_count": 85,
     "metadata": {},
     "output_type": "execute_result"
    }
   ],
   "source": [
    "a.add(1,2,6)"
   ]
  },
  {
   "cell_type": "code",
   "execution_count": 132,
   "id": "ba84d5e0-c6cb-4f3c-9c18-0b3f605804ec",
   "metadata": {},
   "outputs": [],
   "source": [
    "class Area1:                         #using if, elif, else you can achieve method overloading\n",
    "    def area(self,l=0,b=0):       \n",
    "        if l>0 and b == 0:\n",
    "            print(\"Area of square is\",l*l)\n",
    "        elif l>0 and b>0 :\n",
    "            print(\"Area of reactangle is\", l*b)"
   ]
  },
  {
   "cell_type": "code",
   "execution_count": 136,
   "id": "6208b4ed-1b6c-4118-ace9-0f255036c3b8",
   "metadata": {},
   "outputs": [],
   "source": [
    "a = Area1()"
   ]
  },
  {
   "cell_type": "code",
   "execution_count": 140,
   "id": "b94ed010-908c-48d5-967f-f9a8ae0f7ea6",
   "metadata": {},
   "outputs": [
    {
     "name": "stdout",
     "output_type": "stream",
     "text": [
      "Area of reactangle is 10\n"
     ]
    }
   ],
   "source": [
    "a.area(2,5)"
   ]
  },
  {
   "cell_type": "code",
   "execution_count": 142,
   "id": "0240328e-49a3-4fd3-8b8b-198abb96d345",
   "metadata": {},
   "outputs": [
    {
     "name": "stdout",
     "output_type": "stream",
     "text": [
      "Area of square is 25\n"
     ]
    }
   ],
   "source": [
    "a.area(5)"
   ]
  },
  {
   "cell_type": "code",
   "execution_count": 144,
   "id": "29f32b8c-ed30-4fc1-bd02-3b47cc98aece",
   "metadata": {},
   "outputs": [],
   "source": [
    "#Q12. What is method overriding in OOP?\n",
    "\"\"\"\n",
    "Ans12. Method overriding in OOP is a feature that allows a subclass to provide a specific \n",
    "       implementation of a method that is already deined in its superclass.\n",
    "       This allows the subclass to midify or extend the behaviour of the super class method.\n",
    "\"\"\"\n",
    "class Vehicle:\n",
    "    def start_engine(self):\n",
    "        return \"Starting the Vehicle engine \"\n",
    "class Car(Vehicle):\n",
    "    def start_engine(self):\n",
    "        return \"Starting the car engine with a key\"\n",
    "\n",
    "class Bike(Vehicle):\n",
    "    def start_engine(self):\n",
    "        return \"Starting the bike engine with kick\"\n"
   ]
  },
  {
   "cell_type": "code",
   "execution_count": 160,
   "id": "9bd2f5ab-8dcb-48eb-a91a-4f080b7f7166",
   "metadata": {},
   "outputs": [
    {
     "data": {
      "text/plain": [
       "'Starting the Vehicle engine '"
      ]
     },
     "execution_count": 160,
     "metadata": {},
     "output_type": "execute_result"
    }
   ],
   "source": [
    "v.start_engine()"
   ]
  },
  {
   "cell_type": "code",
   "execution_count": 152,
   "id": "740513a4-6a23-4879-96c3-e3a440bd36cd",
   "metadata": {},
   "outputs": [],
   "source": [
    "c = Car()"
   ]
  },
  {
   "cell_type": "code",
   "execution_count": 154,
   "id": "f7d4f321-1b83-4f62-b381-f9698483910e",
   "metadata": {},
   "outputs": [
    {
     "data": {
      "text/plain": [
       "'Starting the car engine with a key'"
      ]
     },
     "execution_count": 154,
     "metadata": {},
     "output_type": "execute_result"
    }
   ],
   "source": [
    "c.start_engine()"
   ]
  },
  {
   "cell_type": "code",
   "execution_count": 156,
   "id": "3cecd7da-2ccc-4490-8a4f-28dde076e23b",
   "metadata": {},
   "outputs": [],
   "source": [
    "b = Bike()"
   ]
  },
  {
   "cell_type": "code",
   "execution_count": 158,
   "id": "70042872-0a77-48dc-9022-de0c71274ad3",
   "metadata": {},
   "outputs": [
    {
     "data": {
      "text/plain": [
       "'Starting the bike engine with kick'"
      ]
     },
     "execution_count": 158,
     "metadata": {},
     "output_type": "execute_result"
    }
   ],
   "source": [
    "b.start_engine()\n",
    "\n",
    "# this proofs that how method overridding  allows subclasses to provide specific implemntation\n",
    "# for methods defined in their superclass."
   ]
  },
  {
   "cell_type": "code",
   "execution_count": 198,
   "id": "d24824c2-d4f0-4c9d-be83-847d6f451c5c",
   "metadata": {},
   "outputs": [],
   "source": [
    "#Q13. What is a property decorator in Python?\n",
    "\"\"\"\n",
    "Ans13. The property decortor allows you to use class method as an attribue.\n",
    "\n",
    "        - This is useful for encapsulating data and providing a way to control access to\n",
    "          instance variables. \n",
    "        - It allows you to define getter, setter and deleter method as an attribue.\n",
    "\"\"\"\n",
    "class Circle:\n",
    "    def __init__(self,radius):\n",
    "        self.__radius = radius\n",
    "    @property\n",
    "    def radius(self):\n",
    "        return self.__radius\n",
    "    @radius.setter    \n",
    "    def radius(self,value):\n",
    "        if value <=0:\n",
    "            raise ValueError(\"Radius is not positive\")\n",
    "        else:\n",
    "            self.__radius = value\n",
    "    @radius.deleter        \n",
    "    def radius(self):\n",
    "        del self.__radius"
   ]
  },
  {
   "cell_type": "code",
   "execution_count": 212,
   "id": "9678eb52-0fea-47d6-8c99-bd1e0e08548c",
   "metadata": {},
   "outputs": [],
   "source": [
    "cir = Circle(5)"
   ]
  },
  {
   "cell_type": "code",
   "execution_count": 214,
   "id": "5cbcb8b8-3d8e-4ac6-99ab-d36f470eefcc",
   "metadata": {},
   "outputs": [
    {
     "data": {
      "text/plain": [
       "5"
      ]
     },
     "execution_count": 214,
     "metadata": {},
     "output_type": "execute_result"
    }
   ],
   "source": [
    "cir.radius"
   ]
  },
  {
   "cell_type": "code",
   "execution_count": 216,
   "id": "8ed0471d-f2df-44fa-bcf4-657ba6817948",
   "metadata": {},
   "outputs": [],
   "source": [
    "cir.radius = 1"
   ]
  },
  {
   "cell_type": "code",
   "execution_count": 218,
   "id": "25030772-ce30-48f9-a575-0c839743e428",
   "metadata": {},
   "outputs": [
    {
     "data": {
      "text/plain": [
       "1"
      ]
     },
     "execution_count": 218,
     "metadata": {},
     "output_type": "execute_result"
    }
   ],
   "source": [
    "cir.radius"
   ]
  },
  {
   "cell_type": "code",
   "execution_count": 208,
   "id": "77cdba8b-0061-4661-b6ba-d7fcca15d8e6",
   "metadata": {},
   "outputs": [],
   "source": [
    "del cir.radius"
   ]
  },
  {
   "cell_type": "code",
   "execution_count": 192,
   "id": "a386107c-a855-4004-a3f0-b8b306dc5cc5",
   "metadata": {},
   "outputs": [],
   "source": [
    "#Q14. Why is polymorphism important in OOP?\n",
    "\"\"\"\n",
    "Ans14. \n",
    "        1. Code Reusability :\n",
    "                Polymorphism allows you to write more genric and reusable code. You can create functions\n",
    "                or methods that work with objects of different classes, as long as they share a common\n",
    "                interface.\n",
    "\"\"\"\n",
    "class Animal:\n",
    "    def speak(self):\n",
    "        pass\n",
    "class Dog(Animal):\n",
    "    def speak(self):\n",
    "        return\"Bark\"\n",
    "class Cat(Animal):\n",
    "    def speak(self):\n",
    "        return\"meow\"\n",
    "def make_animal_speak(Animal):\n",
    "    return(Animal.speak())\n",
    "\n"
   ]
  },
  {
   "cell_type": "code",
   "execution_count": 202,
   "id": "fc423e99-2772-4c33-b593-ea15ed82dc07",
   "metadata": {},
   "outputs": [],
   "source": [
    "d = Dog()\n",
    "c =Cat()"
   ]
  },
  {
   "cell_type": "code",
   "execution_count": 204,
   "id": "8d8bc007-5cab-4a7d-9b17-e6388047f7ab",
   "metadata": {},
   "outputs": [
    {
     "data": {
      "text/plain": [
       "'Bark'"
      ]
     },
     "execution_count": 204,
     "metadata": {},
     "output_type": "execute_result"
    }
   ],
   "source": [
    " # Here make_animal_speak function work with any object that is an instance of Animal.\n",
    "make_animal_speak(d)"
   ]
  },
  {
   "cell_type": "code",
   "execution_count": 206,
   "id": "7ff9d1f2-df28-4cdb-9750-1c2b33cf2139",
   "metadata": {},
   "outputs": [
    {
     "data": {
      "text/plain": [
       "'meow'"
      ]
     },
     "execution_count": 206,
     "metadata": {},
     "output_type": "execute_result"
    }
   ],
   "source": [
    "make_animal_speak(c)"
   ]
  },
  {
   "cell_type": "code",
   "execution_count": null,
   "id": "093a6c2d-b238-4b07-9cb8-93d4e8402320",
   "metadata": {},
   "outputs": [],
   "source": [
    "\"\"\"\n",
    "Ans14.   2. Flexibility and Maintainability:\n",
    "                Polymorphism makes it easier to extend and maintain code. You can add new classes that \n",
    "                implement the same interface without modifying existing code.\n",
    "\"\"\""
   ]
  },
  {
   "cell_type": "code",
   "execution_count": 208,
   "id": "8bbfb169-e385-46d5-9712-07add07db79d",
   "metadata": {},
   "outputs": [],
   "source": [
    "class Bird(Animal):\n",
    "    def speak(self):\n",
    "        return\"chirp\""
   ]
  },
  {
   "cell_type": "code",
   "execution_count": 210,
   "id": "889ad6fc-5bdb-4342-9a58-bc3c1b4bc9e0",
   "metadata": {},
   "outputs": [],
   "source": [
    "b = Bird()"
   ]
  },
  {
   "cell_type": "code",
   "execution_count": 212,
   "id": "7cb665e4-9a37-42b2-a782-4e28aa6e65e1",
   "metadata": {},
   "outputs": [
    {
     "data": {
      "text/plain": [
       "'chirp'"
      ]
     },
     "execution_count": 212,
     "metadata": {},
     "output_type": "execute_result"
    }
   ],
   "source": [
    "make_animal_speak(b)"
   ]
  },
  {
   "cell_type": "code",
   "execution_count": 214,
   "id": "ddc3826c-d39b-48e3-87ac-8af83fb7c487",
   "metadata": {},
   "outputs": [],
   "source": [
    "\"\"\"\n",
    "Ans14.   3. Dynamic Behaviour :\n",
    "                Polymorphism enables dynamic method bining, allowing the progran to decide a runtime\n",
    "                which method to invooke.\n",
    "\"\"\"\n",
    "obj2 = [b,c,d]"
   ]
  },
  {
   "cell_type": "code",
   "execution_count": 216,
   "id": "faf62519-c516-4887-bd0f-f247da8e3d58",
   "metadata": {},
   "outputs": [
    {
     "name": "stdout",
     "output_type": "stream",
     "text": [
      "chirp\n",
      "meow\n",
      "Bark\n"
     ]
    }
   ],
   "source": [
    "for i in obj2:\n",
    "    print(i.speak())"
   ]
  },
  {
   "cell_type": "code",
   "execution_count": null,
   "id": "de2b74a1-eaa1-4ea0-9ef5-c7ed000cb710",
   "metadata": {},
   "outputs": [],
   "source": [
    "\"\"\"\n",
    "Ans14     4. Simplified Code :\n",
    "                Polymorphism helps in reducing the complexity of code by allowing you to use a single\n",
    "                interface to represent different underlying forms.\n",
    "\"\"\""
   ]
  },
  {
   "cell_type": "code",
   "execution_count": 160,
   "id": "9d58afcf-910c-47f2-b5d8-331776c17f2d",
   "metadata": {},
   "outputs": [],
   "source": [
    "#Q15.What is an abstract class in Python.\n",
    "\"\"\"\n",
    "Ans15. Abstract serves as a blueprint for other classes. An abstract class in python is a class\n",
    "       that can not be initiated on its own and is meant to be subclassed.\n",
    "       - Abstarct class can contain abstract methods, which are methods that are declared but contain\n",
    "         no implementation.\n",
    "       - Subclasses of the abstarct class are required to provide implementation for these\n",
    "         abstract methods.\n",
    "       - To create abstract class use abc module.\n",
    "\"\"\"\n",
    "from abc import ABC, abstractmethod\n",
    "\n",
    "class Animal(ABC):           # class Animal is a abstract class which act as a blueprint for subclasses\n",
    "    @abstractmethod\n",
    "    def sound():\n",
    "        pass\n",
    "\n",
    "class Dog(Animal):            # Here, Dog class use sound method from abstract class Animal\n",
    "    def sound(self):\n",
    "        print(\"Bark!\")\n",
    "\n"
   ]
  },
  {
   "cell_type": "code",
   "execution_count": null,
   "id": "3b342059-f51c-429f-98a9-6f11a4304e40",
   "metadata": {},
   "outputs": [],
   "source": [
    "#Q16. What are the advantages of OOP?\n",
    "\"\"\"\n",
    "Ans16. Advantages of OOP are:\n",
    "        1. Modularity:\n",
    "                OOP help you break down complex problems into smaller, manageable pieces called classes.\n",
    "                Each class represent a specific part of the problem.\n",
    "\n",
    "        2. Reusability:\n",
    "                You can reuse existing code by creating new classes based on old ones. This saves\n",
    "                time and effort.\n",
    "\n",
    "        3. Maintainability:\n",
    "                OOP makes it easier to update and maintain your code. If you need to make changes,\n",
    "                you can do in one place without affecting the entire program.\n",
    "\n",
    "        4. Scalability :\n",
    "                OOP allow you to add new features and functionality without modifying existing code.\n",
    "                This make it easier to scale your program as needed.\n",
    "        5. Security :\n",
    "                OOP helps protect your data by using access modifiers(e.g. private,public,protected).\n",
    "                This ensures that sensitive data is only accessible through well-defined interfaces.\n",
    "\"\"\"\n",
    "\n"
   ]
  },
  {
   "cell_type": "code",
   "execution_count": 162,
   "id": "fa769a92-2a66-4aec-9bc7-bf462e80846c",
   "metadata": {},
   "outputs": [],
   "source": [
    "#Q17. What is the difference between a class variable and an instance variable?\n",
    "\"\"\"\n",
    "Ans17. Class variable:\n",
    "            Defination : A class variable is shared among all instances of class. It is defined\n",
    "                         within a class but outside any instance methods.\n",
    "            Scope : It is accessible to the instances of the class and can be accessed using the \n",
    "                    class name or an instance.\n",
    "\n",
    "        Instance Variable :\n",
    "            Defination : An instance variable is unique to each instance of a class. It is defined\n",
    "                         within the __init__ methods or instance method.\n",
    "            \n",
    "            Scope : It is accessible only to the specific instance of the class and can be \n",
    "                    accessed using the instance.\n",
    "\"\"\"\n",
    "class School:\n",
    "    room = 50  # class variable\n",
    "\n",
    "    def __init__(self,name):\n",
    "        self.name = name   # variable class\n"
   ]
  },
  {
   "cell_type": "code",
   "execution_count": 164,
   "id": "c3099e21-5b30-4bcb-b6f7-6ef5ae0af933",
   "metadata": {},
   "outputs": [
    {
     "data": {
      "text/plain": [
       "50"
      ]
     },
     "execution_count": 164,
     "metadata": {},
     "output_type": "execute_result"
    }
   ],
   "source": [
    "School.room   # class variable it can be accessed by class name"
   ]
  },
  {
   "cell_type": "code",
   "execution_count": 168,
   "id": "16556a30-0740-4597-a90b-cdfbf3d0cf9b",
   "metadata": {},
   "outputs": [],
   "source": [
    "a = School(\"D.P.S\") "
   ]
  },
  {
   "cell_type": "code",
   "execution_count": 170,
   "id": "467e09f8-2722-4503-904b-a648643f5345",
   "metadata": {},
   "outputs": [
    {
     "data": {
      "text/plain": [
       "'D.P.S'"
      ]
     },
     "execution_count": 170,
     "metadata": {},
     "output_type": "execute_result"
    }
   ],
   "source": [
    "a.name     # variable class and can be accessed by instance of the class"
   ]
  },
  {
   "cell_type": "code",
   "execution_count": 172,
   "id": "fe4367ba-ed30-4dc2-9752-f6cc04be7711",
   "metadata": {},
   "outputs": [
    {
     "data": {
      "text/plain": [
       "50"
      ]
     },
     "execution_count": 172,
     "metadata": {},
     "output_type": "execute_result"
    }
   ],
   "source": [
    "a.room     #class variable also accessed with an isntance."
   ]
  },
  {
   "cell_type": "code",
   "execution_count": 174,
   "id": "d056ab1a-59f1-40a4-82a7-aecc009f8582",
   "metadata": {},
   "outputs": [],
   "source": [
    "#Q18. What is multiple inheritance in Python?\n",
    "\"\"\"\n",
    "Ans18. Multiple inheritance in Python is a feature that allows a class to inherit attributes\n",
    "       and methods from more than one parent class. This means that a derived class can have \n",
    "       multiple base class.\n",
    "\"\"\"\n",
    "class Parent1:\n",
    "    def parent1(self):\n",
    "        print(\"This is parenrt1 class\")\n",
    "class Parent2:\n",
    "    def parent2(self):\n",
    "        print(\"this is parent2 class\")\n",
    "class Child(Parent1,Parent2):\n",
    "    def child(self):\n",
    "        print(\"this is child class\")\n",
    "\n",
    "\n",
    "\n"
   ]
  },
  {
   "cell_type": "code",
   "execution_count": 176,
   "id": "e8dd5fc9-5e9e-4b33-9233-2eb32f8b6310",
   "metadata": {},
   "outputs": [],
   "source": [
    "c = Child()"
   ]
  },
  {
   "cell_type": "code",
   "execution_count": 180,
   "id": "9103c9f3-5e9f-4d19-ac71-380b3e4d00f8",
   "metadata": {},
   "outputs": [
    {
     "name": "stdout",
     "output_type": "stream",
     "text": [
      "this is child class\n"
     ]
    }
   ],
   "source": [
    "c.child()"
   ]
  },
  {
   "cell_type": "code",
   "execution_count": 182,
   "id": "fe8963a4-2c3c-49f6-9ad2-984a5b8ad2a8",
   "metadata": {},
   "outputs": [
    {
     "name": "stdout",
     "output_type": "stream",
     "text": [
      "This is parenrt1 class\n"
     ]
    }
   ],
   "source": [
    "c.parent1()"
   ]
  },
  {
   "cell_type": "code",
   "execution_count": 184,
   "id": "7c08f20c-3fe8-4e47-93b9-845b637abe57",
   "metadata": {},
   "outputs": [
    {
     "name": "stdout",
     "output_type": "stream",
     "text": [
      "this is parent2 class\n"
     ]
    }
   ],
   "source": [
    "c.parent2()"
   ]
  },
  {
   "cell_type": "code",
   "execution_count": 194,
   "id": "af7d81cf-8069-4673-b142-a466f0a0a8bb",
   "metadata": {},
   "outputs": [],
   "source": [
    "#Q19. Explain the purpose of ‘’__str__’ and ‘__repr__’ ‘ methods in Python\n",
    "\"\"\"\n",
    "Ans19. In python, the '__str__' and '__repr__' methods are special methods used to define how objects\n",
    "       of a class are represent as a string.\n",
    "\n",
    "       1. __str__ method :\n",
    "           - The __str__ method is used to provide a 'user-friendly' string representation of an object.\n",
    "           - It is called by str() function and print() function.     \n",
    "\"\"\"\n",
    "class Rectangle:\n",
    "    def __init__(self,x,y):\n",
    "        self.x = x\n",
    "        self.y = y\n",
    "    def __str__(self):\n",
    "        return f\"length is {self.x} and breadth is {self.y}\"\n"
   ]
  },
  {
   "cell_type": "code",
   "execution_count": 210,
   "id": "a759bb73-8133-4d4a-9888-d77b8529e2cf",
   "metadata": {},
   "outputs": [
    {
     "name": "stdout",
     "output_type": "stream",
     "text": [
      "length is 4 and breadth is 6\n"
     ]
    }
   ],
   "source": [
    "r = Rectangle(4,6)\n",
    "print(r)"
   ]
  },
  {
   "cell_type": "code",
   "execution_count": 227,
   "id": "aa6ef711-dd9c-465b-a930-3d31cf7aca9c",
   "metadata": {},
   "outputs": [],
   "source": [
    "\"\"\"\n",
    "Ans19.  2. __repr__ method :\n",
    "          - The __repr__ method is used to provide an \"official\" string representation of an \n",
    "            object.\n",
    "          - It is called by repr() function and the interactive interpreter.\n",
    "\"\"\"\n",
    "class Person:\n",
    "    def __init__(self,name,age):\n",
    "        self.name = name\n",
    "        self.age = age\n",
    "\n",
    "    def __repr__(self):\n",
    "        return f\"Person(name = '{self.name}', age = {self.age})\"\n",
    "\n",
    "\n"
   ]
  },
  {
   "cell_type": "code",
   "execution_count": 229,
   "id": "5543a7a0-2d1f-48e6-a8c9-24b3f3ade6a1",
   "metadata": {},
   "outputs": [],
   "source": [
    "p = Person(\"harsh\",25)"
   ]
  },
  {
   "cell_type": "code",
   "execution_count": 231,
   "id": "606a0796-5a56-493c-84d2-82aada3c4a42",
   "metadata": {},
   "outputs": [
    {
     "name": "stdout",
     "output_type": "stream",
     "text": [
      "Person(name = 'harsh', age = 25)\n"
     ]
    }
   ],
   "source": [
    "print(repr(p))"
   ]
  },
  {
   "cell_type": "code",
   "execution_count": null,
   "id": "51c59d8c-55c1-45f0-9088-9e0664024a5c",
   "metadata": {},
   "outputs": [],
   "source": [
    "#Q20.  What is the significance of the ‘super()’ function in Python.\n",
    "\"\"\"\n",
    "Ans20. Super() function :\n",
    "                Super() function in python is used to access methods of the parent class whithin \n",
    "                a derived class.\n",
    "            \n",
    "            - By super() function you can access the method of the parent class.\n",
    "            - By super()function you can access parent class attributes.\n",
    "\"\"\"\n",
    "class Employee:\n",
    "    def __init__(self,name,hours, rate=800):\n",
    "        self.name = name\n",
    "        self.hours = hours\n",
    "        self.rate = rate\n",
    "\n",
    "    def calculate_salary(self):\n",
    "        total_salary = self.hours * self.rate\n",
    "        return total_salary\n",
    "\n",
    "class Manager(Employee):\n",
    "    def __init__(self,name,hours,rate=800, bonus = 5000):\n",
    "        super().__init__(name,hours,rate=800)     # super() function helps in accessing the parent class                         \n",
    "        self.bonus = bonus                        # attributes \n",
    "\n",
    "    def calculate_salary(self):\n",
    "        base_salary = super().calculate_salary()  # here using super() function we can access the method\n",
    "        bonus_salary = base_salary + self.bonus   # calculate_salary from parent class.\n",
    "        return bonus_salary\n",
    "        \n"
   ]
  },
  {
   "cell_type": "code",
   "execution_count": 7,
   "id": "def1a4f0-5c84-4cf7-8f30-7695c32cb157",
   "metadata": {},
   "outputs": [],
   "source": [
    "#Q21. What is the significance of the __del__ method in Python?\n",
    "\"\"\"\n",
    "Ans21. __del__ method:\n",
    "                The __del__method in python is a special method known as destructor. It is called \n",
    "                when an object is about to be destroyed, allowing you to perform any necessary\n",
    "                cleanup before the object is removed from memory.\n",
    "\n",
    "        - __del__method can be used to release resources such file handle, network connection etc.\n",
    "        - It allows you to perform cleanup opeartion, such as deleting temporary file. \n",
    "\"\"\"\n",
    "class Myclass:\n",
    "    def __init__(self,name):\n",
    "        self.name = name\n",
    "        print(f\"object {self.name} is created\")\n",
    "    def __del__(self):\n",
    "        print(f\"object {self.name} is destroyed\")"
   ]
  },
  {
   "cell_type": "code",
   "execution_count": 26,
   "id": "2cbd2b98-b250-45e5-b1a6-fedf46fd18c0",
   "metadata": {},
   "outputs": [
    {
     "name": "stdout",
     "output_type": "stream",
     "text": [
      "object Akki is created\n"
     ]
    }
   ],
   "source": [
    "m = Myclass(\"Akki\")"
   ]
  },
  {
   "cell_type": "code",
   "execution_count": 28,
   "id": "f062583f-df2d-4ae8-af3f-1a0fb539185d",
   "metadata": {},
   "outputs": [
    {
     "name": "stdout",
     "output_type": "stream",
     "text": [
      "object Akki is destroyed\n"
     ]
    }
   ],
   "source": [
    "del m"
   ]
  },
  {
   "cell_type": "code",
   "execution_count": 14,
   "id": "67a13413-00da-4920-b0ab-9f94353201ed",
   "metadata": {},
   "outputs": [],
   "source": [
    "#Q22. What is the difference between @staticmethod and @classmethod in Python?\n",
    "\"\"\"\n",
    "Ans22.  @staticmethod :\n",
    "                Static methods are the methods that are bound to the class and not the instance\n",
    "                of the class. They do not modify the class state or instance state.\n",
    "            - First Parameter : None (no self or cls)\n",
    "\"\"\"\n",
    "class Calculator1:\n",
    "\n",
    "    @staticmethod\n",
    "    def add(x,y):\n",
    "        print(x+y)\n"
   ]
  },
  {
   "cell_type": "code",
   "execution_count": 16,
   "id": "1ce9e7a0-60c0-4409-b08e-8c686456521a",
   "metadata": {},
   "outputs": [
    {
     "name": "stdout",
     "output_type": "stream",
     "text": [
      "17\n"
     ]
    }
   ],
   "source": [
    "Calculator1.add(8,9)"
   ]
  },
  {
   "cell_type": "code",
   "execution_count": 18,
   "id": "d5a4bda9-d65f-4d5d-b4de-ed42816e25fc",
   "metadata": {},
   "outputs": [],
   "source": [
    "\"\"\"\n",
    "Ans22   @classmethod :\n",
    "                Class methods are method that are bound to the class and not the instance of the\n",
    "                class. Thy can modify the class state that applies across all instances of the class.\n",
    "                \n",
    "            - First parameter : cls(refers to class it self)\n",
    "\"\"\"\n",
    "#example class method\n",
    "class Pwskills:\n",
    "    mobile_num = 887876557\n",
    " \n",
    "    def __init__ (self,name):\n",
    "        self.name = name\n",
    "    @classmethod    \n",
    "    def change_mob(cls,mobile):\n",
    "        Pwskills.mobile_num = mobile\n",
    "    \n",
    "    @classmethod    \n",
    "    def detalis(cls,name):\n",
    "        return cls(name)"
   ]
  },
  {
   "cell_type": "code",
   "execution_count": 20,
   "id": "d0baac58-3207-40ee-83d0-d147063e20e5",
   "metadata": {},
   "outputs": [
    {
     "data": {
      "text/plain": [
       "887876557"
      ]
     },
     "execution_count": 20,
     "metadata": {},
     "output_type": "execute_result"
    }
   ],
   "source": [
    "Pwskills.mobile_num"
   ]
  },
  {
   "cell_type": "code",
   "execution_count": 22,
   "id": "4a1fd28d-dfe8-4510-810d-448c5fb1ab10",
   "metadata": {},
   "outputs": [],
   "source": [
    "Pwskills.change_mob(5556667)   # using classmethod we can directly modify the state of class variable."
   ]
  },
  {
   "cell_type": "code",
   "execution_count": 24,
   "id": "7c68b54f-02dc-48ad-8d87-06412e014fa6",
   "metadata": {},
   "outputs": [
    {
     "data": {
      "text/plain": [
       "5556667"
      ]
     },
     "execution_count": 24,
     "metadata": {},
     "output_type": "execute_result"
    }
   ],
   "source": [
    "Pwskills.mobile_num  "
   ]
  },
  {
   "cell_type": "code",
   "execution_count": 93,
   "id": "892d8600-5560-49bd-9f05-f5f24abc0bee",
   "metadata": {},
   "outputs": [],
   "source": [
    "#Q23. How does polymorphism work in Python with inheritance?\n",
    "\n",
    "class Shape:\n",
    "    def area(self):\n",
    "        pass\n",
    "\n",
    "class Circle(Shape):\n",
    "    def __init__(self,radius):\n",
    "        self.radius = radius\n",
    "\n",
    "    def area(self):\n",
    "        return 3.14 *self.radius*self.radius\n",
    "\n",
    "class Rectangle(Shape):\n",
    "    def __init__(self,height,width):\n",
    "        self.height = height\n",
    "        self.width = width\n",
    "\n",
    "    def area(self):\n",
    "        return self.height *self.width\n",
    "def print_area(obj):\n",
    "    print( \"area is\", obj.area())\n",
    "\n",
    "\"\"\"\n",
    "1. Here, circle and rectangle are the derived class and inherit shape method and implement on their \n",
    "   own need.\n",
    "2. Here, Polymorphism allows us to use the area() give diifernt nature based on different shapes.\n",
    "\"\"\"\n",
    "    "
   ]
  },
  {
   "cell_type": "code",
   "execution_count": 95,
   "id": "efd4865b-25ee-496c-a54f-6e8345a686f7",
   "metadata": {},
   "outputs": [],
   "source": [
    "circle = Circle(5)\n",
    "rectangle  = Rectangle(8,5)"
   ]
  },
  {
   "cell_type": "code",
   "execution_count": 97,
   "id": "7b6607c1-c19e-4b6d-bf82-13e6350ce2fb",
   "metadata": {},
   "outputs": [
    {
     "name": "stdout",
     "output_type": "stream",
     "text": [
      "area is 78.5\n"
     ]
    }
   ],
   "source": [
    "print_area(circle)"
   ]
  },
  {
   "cell_type": "code",
   "execution_count": 99,
   "id": "b0c65683-0b42-495c-af6e-24b9eea66228",
   "metadata": {},
   "outputs": [],
   "source": [
    "r = Rectangle(8,5)"
   ]
  },
  {
   "cell_type": "code",
   "execution_count": 101,
   "id": "cd4a05a5-41b2-4ecd-903b-af37f7614c1e",
   "metadata": {},
   "outputs": [
    {
     "data": {
      "text/plain": [
       "40"
      ]
     },
     "execution_count": 101,
     "metadata": {},
     "output_type": "execute_result"
    }
   ],
   "source": [
    "r.area()"
   ]
  },
  {
   "cell_type": "code",
   "execution_count": 28,
   "id": "6d723741-d05a-482c-adf1-d0372cd3d20d",
   "metadata": {},
   "outputs": [],
   "source": [
    "#Q24 What is method chaining in Python OOP?\n",
    "\"\"\"\n",
    "Ans24. Method Chaining in Python OOP allows you to call mulitple methods on the same object in a\n",
    "       single line. This can be done by having each method return the object itself, usually\n",
    "       using self.\n",
    "\"\"\"\n",
    "\n",
    "class Car:\n",
    "    def __init__(self,make,model):\n",
    "        self.make = make\n",
    "        self.model = model\n",
    "    \n",
    "    def set_colour(self,colour):\n",
    "        self.colour =  colour\n",
    "        return self\n",
    "\n",
    "    def set_year(self,year):\n",
    "        self.year = year\n",
    "        return self\n",
    "\n",
    "    def display(self):\n",
    "        print(f\"{self.year} {self.colour} {self.make} {self.model}\")\n",
    "        return self\n"
   ]
  },
  {
   "cell_type": "code",
   "execution_count": 30,
   "id": "fac69bae-0625-45de-b13b-fd4be0e45570",
   "metadata": {},
   "outputs": [],
   "source": [
    "c = Car(\"Audi\",\"R8\")"
   ]
  },
  {
   "cell_type": "code",
   "execution_count": 32,
   "id": "aa3b1406-8109-4e58-ba07-8c8a6aaae187",
   "metadata": {},
   "outputs": [
    {
     "name": "stdout",
     "output_type": "stream",
     "text": [
      "2010 White Audi R8\n"
     ]
    },
    {
     "data": {
      "text/plain": [
       "<__main__.Car at 0x28bdcf7cfe0>"
      ]
     },
     "execution_count": 32,
     "metadata": {},
     "output_type": "execute_result"
    }
   ],
   "source": [
    "c.set_colour(\"White\").set_year(2010).display()"
   ]
  },
  {
   "cell_type": "code",
   "execution_count": 37,
   "id": "7ee0a633-9d8a-4bf6-b3d6-f59de181479b",
   "metadata": {},
   "outputs": [],
   "source": [
    "#Q25. What is the purpose of the __call__ method in Python?\n",
    "\"\"\"\n",
    "Ans25. The __call__ method in python allows an instance of a class to be called as if it were a \n",
    "       function. This means you can use the object itself as a callable, which can be useful\n",
    "       for creating objects that need to be invoked like functions.\n",
    "\"\"\"\n",
    "\n",
    "class UpperCaseConverrter:\n",
    "    def __call__(self,string):\n",
    "        return string.upper()"
   ]
  },
  {
   "cell_type": "code",
   "execution_count": 39,
   "id": "77b2f0a2-fa30-4aa7-8cfe-78139a1d7e1f",
   "metadata": {},
   "outputs": [],
   "source": [
    "upper_converter = UpperCaseConverrter()"
   ]
  },
  {
   "cell_type": "code",
   "execution_count": 45,
   "id": "030597a4-eda0-4c90-b41e-2fd8c00b652f",
   "metadata": {},
   "outputs": [],
   "source": [
    "r = upper_converter(\"hello\")"
   ]
  },
  {
   "cell_type": "code",
   "execution_count": 47,
   "id": "3dcde551-bfbe-4f3a-b014-17d8950e948f",
   "metadata": {},
   "outputs": [
    {
     "name": "stdout",
     "output_type": "stream",
     "text": [
      "HELLO\n"
     ]
    }
   ],
   "source": [
    "print(r)"
   ]
  },
  {
   "cell_type": "code",
   "execution_count": null,
   "id": "25d5534b-14d7-4273-8ee4-75c555413676",
   "metadata": {},
   "outputs": [],
   "source": []
  },
  {
   "cell_type": "code",
   "execution_count": null,
   "id": "fe242d76-880a-4fff-8260-8cb57fe72a6d",
   "metadata": {},
   "outputs": [],
   "source": [
    "#PRACTICAL QUESTION"
   ]
  },
  {
   "cell_type": "code",
   "execution_count": 241,
   "id": "042b74ac-58c2-4cee-ac18-999a27d7434c",
   "metadata": {},
   "outputs": [],
   "source": [
    "#Q1. Create a parent class Animal with a method speak() that prints a generic message. Create a child class Dog \n",
    "#that overrides the speak() method to print \"Bark!\"\n",
    "\n",
    "class Animal:\n",
    "    def speak(self):\n",
    "        print(\"Hi\")\n",
    "        \n",
    "class Dog(Animal):\n",
    "    def speak(self):\n",
    "        print(\"Bark!\")"
   ]
  },
  {
   "cell_type": "code",
   "execution_count": 243,
   "id": "5f8d92be-d31b-4adb-bf84-5a771064c45e",
   "metadata": {},
   "outputs": [],
   "source": [
    "d = Dog()"
   ]
  },
  {
   "cell_type": "code",
   "execution_count": 245,
   "id": "f8b9836b-ac1f-4126-b01c-3efe12b267c1",
   "metadata": {},
   "outputs": [
    {
     "name": "stdout",
     "output_type": "stream",
     "text": [
      "Bark!\n"
     ]
    }
   ],
   "source": [
    "d.speak()"
   ]
  },
  {
   "cell_type": "code",
   "execution_count": 249,
   "id": "c088c9d0-f052-4a79-acdb-7608247e1703",
   "metadata": {},
   "outputs": [],
   "source": [
    "#Q2.  Write a program to create an abstract class Shape with a method area(). Derive classes Circle and Rectangle \n",
    "#     from it and implement the area() method in both.\n",
    "\n",
    "from abc import ABC, abstractmethod\n",
    "class Shape():\n",
    "    @abstractmethod\n",
    "    def area(self):\n",
    "        pass"
   ]
  },
  {
   "cell_type": "code",
   "execution_count": 251,
   "id": "a4ac22aa-7d42-4850-9401-5607c9df29d0",
   "metadata": {},
   "outputs": [],
   "source": [
    "class Circle(Shape):\n",
    "    def area(self):\n",
    "        print(\"area of circle 3.14*r*r\")"
   ]
  },
  {
   "cell_type": "code",
   "execution_count": 265,
   "id": "6a9e2183-3f29-4a92-98e4-e5cf8d2d343a",
   "metadata": {},
   "outputs": [],
   "source": [
    "class Rectangle(Shape):\n",
    "    def area(self):\n",
    "        print(\"area of rectangle is l*b\")"
   ]
  },
  {
   "cell_type": "code",
   "execution_count": 267,
   "id": "61b3af1b-be33-4558-a83f-f2439dec2584",
   "metadata": {},
   "outputs": [],
   "source": [
    "c = Circle()"
   ]
  },
  {
   "cell_type": "code",
   "execution_count": 269,
   "id": "0a6cde3e-1c86-47eb-8fd4-e329bc2459ad",
   "metadata": {},
   "outputs": [
    {
     "name": "stdout",
     "output_type": "stream",
     "text": [
      "area of circle 3.14*r*r\n"
     ]
    }
   ],
   "source": [
    "c.area()"
   ]
  },
  {
   "cell_type": "code",
   "execution_count": 271,
   "id": "9ce820a8-dae5-4bb9-ad16-8abe4af95f27",
   "metadata": {},
   "outputs": [],
   "source": [
    "r = Rectangle()"
   ]
  },
  {
   "cell_type": "code",
   "execution_count": 273,
   "id": "48100063-6ea4-46f6-9b1c-328424c52ab0",
   "metadata": {},
   "outputs": [
    {
     "name": "stdout",
     "output_type": "stream",
     "text": [
      "area of rectangle is l*b\n"
     ]
    }
   ],
   "source": [
    "r.area()"
   ]
  },
  {
   "cell_type": "code",
   "execution_count": 397,
   "id": "20abc716-f69e-4c82-977a-e4b85e478184",
   "metadata": {},
   "outputs": [],
   "source": [
    "#Q3. Implement a multi-level inheritance scenario where a class Vehicle has an attribute type. Derive a class Car \n",
    "#    and further derive a class ElectricCar that adds a battery attribute.\n",
    "class Vehicle:\n",
    "    def __init__(self,top_speed,wheels):\n",
    "        self.top_speed = top_speed\n",
    "        self.wheels = wheels\n",
    "\n",
    "class Car(Vehicle):\n",
    "    def __init__(self,fuel,top_speed,wheels):\n",
    "        super().__init__(top_speed,wheels)\n",
    "        self.fuel = fuel\n",
    "\n",
    "class Electric_car(Car):\n",
    "    def __init__(self,battery,fuel,top_speed,wheels):\n",
    "        super().__init__(fuel,top_speed,wheels)\n",
    "        self.battery = battery\n",
    "    \n",
    "    "
   ]
  },
  {
   "cell_type": "code",
   "execution_count": 413,
   "id": "c5745e59-f0bb-4a76-8e10-6f4d6ab1838c",
   "metadata": {},
   "outputs": [],
   "source": [
    "e = Electric_car(\"240KW\", \"None\", 350,4)"
   ]
  },
  {
   "cell_type": "code",
   "execution_count": 426,
   "id": "e39ab5b3-5e39-4afb-a53b-b0dc953e4e21",
   "metadata": {},
   "outputs": [],
   "source": [
    "c = Car(\"Petrol\", 150, 4)"
   ]
  },
  {
   "cell_type": "code",
   "execution_count": null,
   "id": "355b6f61-798f-46e3-bc6c-034ff0c36178",
   "metadata": {},
   "outputs": [],
   "source": [
    "#Q4. Implement a multi-level inheritance scenario where a class Vehicle has an attribute type. Derive a class Car \n",
    "#    and further derive a class ElectricCar that adds a battery attribute.\n",
    "class Vehicle:\n",
    "    def __init__(self,top_speed,wheels):\n",
    "        self.top_speed = top_speed\n",
    "        self.wheels = wheels\n",
    "\n",
    "class Car(Vehicle):\n",
    "    def __init__(self,fuel,top_speed,wheels):\n",
    "        super().__init__(top_speed,wheels)\n",
    "        self.fuel = fuel\n",
    "\n",
    "class Electric_car(Car):\n",
    "    def __init__(self,battery,fuel,top_speed,wheels):\n",
    "        super().__init__(fuel,top_speed,wheels)\n",
    "        self.battery = battery\n",
    "    "
   ]
  },
  {
   "cell_type": "code",
   "execution_count": 504,
   "id": "ac732c26-3864-4ce4-b4a0-b34dc4501ea2",
   "metadata": {},
   "outputs": [],
   "source": [
    "#Q5. Write a program to demonstrate encapsulation by creating a class BankAccount with private attributes \n",
    "#    balance and methods to deposit, withdraw, and check balance\n",
    "\n",
    "class BankAccount:\n",
    "    def __init__(self,balance):\n",
    "        self.__balance = balance\n",
    "\n",
    "    def deposit(self,amount):\n",
    "        self.__balance = self.__balance + amount\n",
    "        print(amount,\"Rs deposit successfully. Total balance is \",self.__balance)\n",
    "\n",
    "    def withdraw(self,amount):\n",
    "        if amount > self.__balance:\n",
    "            print(\"Not enough Balance\")\n",
    "        else :\n",
    "            self.__balance = self.__balance - amount\n",
    "            print(amount,\"Rs withdraw successfully from your account. Remaining balance is \",self.__balance)\n",
    "    def check_balance(self):\n",
    "        return self.__balance\n",
    "        \n",
    "            \n"
   ]
  },
  {
   "cell_type": "code",
   "execution_count": 506,
   "id": "8372e1b9-8bbc-41db-8213-497f9005482f",
   "metadata": {},
   "outputs": [],
   "source": [
    "b = BankAccount(2000)"
   ]
  },
  {
   "cell_type": "code",
   "execution_count": 508,
   "id": "b30fa3a1-4791-4796-9c2a-6ea2bc480159",
   "metadata": {},
   "outputs": [
    {
     "name": "stdout",
     "output_type": "stream",
     "text": [
      "500 Rs deposit successfully. Total balance is  2500\n"
     ]
    }
   ],
   "source": [
    "b.deposit(500)"
   ]
  },
  {
   "cell_type": "code",
   "execution_count": 30,
   "id": "853f1609-47f3-438e-b84f-6a2d597a5509",
   "metadata": {},
   "outputs": [],
   "source": [
    "#Q6. Demonstrate runtime polymorphism using a method play() in a base class Instrument. Derive classes Guitar \n",
    "#    and Piano that implement their own version of play().\n",
    "\n",
    "class Instrument:\n",
    "    def play(self):\n",
    "        return \"Playing some Instrument\"\n",
    "\n",
    "class Guitar(Instrument):\n",
    "    def play(self):\n",
    "        return \"Playing Guitar\"\n",
    "class Piano(Instrument):\n",
    "    def play(self):\n",
    "        return \"Playing Piano\""
   ]
  },
  {
   "cell_type": "code",
   "execution_count": 32,
   "id": "8ce051ae-d7c1-4d3e-81e3-7f3369ced7f2",
   "metadata": {},
   "outputs": [],
   "source": [
    "g = Guitar()"
   ]
  },
  {
   "cell_type": "code",
   "execution_count": 34,
   "id": "4a373ca7-6a1a-447a-8010-613434191baa",
   "metadata": {},
   "outputs": [],
   "source": [
    "p = Piano()"
   ]
  },
  {
   "cell_type": "code",
   "execution_count": 36,
   "id": "40dd3ad1-d755-452a-92ef-e201af10701a",
   "metadata": {},
   "outputs": [],
   "source": [
    "obj2 = [g,p]"
   ]
  },
  {
   "cell_type": "code",
   "execution_count": 38,
   "id": "89d61d58-8ed0-4c77-83f8-a2370738f14c",
   "metadata": {},
   "outputs": [
    {
     "name": "stdout",
     "output_type": "stream",
     "text": [
      "Playing Guitar\n",
      "Playing Piano\n"
     ]
    }
   ],
   "source": [
    "for i in obj2:\n",
    "    print(i.play())"
   ]
  },
  {
   "cell_type": "code",
   "execution_count": 76,
   "id": "05789402-b4a5-43a8-960a-9110dd9f1192",
   "metadata": {},
   "outputs": [],
   "source": [
    "#Q7. Create a class MathOperations with a class method add_numbers() to add two numbers and a static \n",
    "#    method subtract_numbers() to subtract two numbers.\n",
    "\n",
    "class MathOperations:\n",
    "\n",
    "    def __init__(self,x,y):\n",
    "        self.x = x\n",
    "        self.y = y\n",
    "    @classmethod\n",
    "    def add_number(cls,x,y):\n",
    "        return x+y\n",
    "\n",
    "    @staticmethod \n",
    "    def sub_number(a,b):\n",
    "        return a-b\n",
    "    "
   ]
  },
  {
   "cell_type": "code",
   "execution_count": 74,
   "id": "be476189-4d95-438f-bb28-64db7b0ef459",
   "metadata": {},
   "outputs": [
    {
     "data": {
      "text/plain": [
       "12"
      ]
     },
     "execution_count": 74,
     "metadata": {},
     "output_type": "execute_result"
    }
   ],
   "source": [
    "MathOperations.add_number(5,7)"
   ]
  },
  {
   "cell_type": "code",
   "execution_count": 80,
   "id": "efe13e36-e2eb-4ff3-898e-a4486ef0b54d",
   "metadata": {},
   "outputs": [
    {
     "data": {
      "text/plain": [
       "3"
      ]
     },
     "execution_count": 80,
     "metadata": {},
     "output_type": "execute_result"
    }
   ],
   "source": [
    "MathOperations.sub_number(4,1)"
   ]
  },
  {
   "cell_type": "code",
   "execution_count": 1,
   "id": "cfbcb3c6-f2b8-4a73-ae3b-1ce1cb983a53",
   "metadata": {},
   "outputs": [],
   "source": [
    "#Q8.  Implement a class Person with a class method to count the total number of persons created.\n",
    "\n",
    "class Person:\n",
    "    total = 0\n",
    "    def __init__(self,name):\n",
    "        self.name = name\n",
    "        Person.total = Person.total + 1\n",
    "\n",
    "    @classmethod\n",
    "    def get_total_person(cls):\n",
    "        return cls.total"
   ]
  },
  {
   "cell_type": "code",
   "execution_count": 3,
   "id": "2d55fd74-aa65-4f43-82e7-31f7076af418",
   "metadata": {},
   "outputs": [],
   "source": [
    "p = Person(\"akki\")\n",
    "p1 = Person(\"harsh\")\n",
    "p2 = Person(\"Anshu\")"
   ]
  },
  {
   "cell_type": "code",
   "execution_count": 9,
   "id": "59e0d8ec-16a2-4ffd-a944-aefcea8f6433",
   "metadata": {},
   "outputs": [
    {
     "name": "stdout",
     "output_type": "stream",
     "text": [
      "the total person created is 3\n"
     ]
    }
   ],
   "source": [
    "print(\"the total person created is\",p.get_total_person())"
   ]
  },
  {
   "cell_type": "code",
   "execution_count": 69,
   "id": "a7ed0226-f7f1-46b2-b85f-c701c0bd8fda",
   "metadata": {},
   "outputs": [],
   "source": [
    "#Q9. Write a class Fraction with attributes numerator and denominator. Override the str method to display the \n",
    " #   fraction as \"numerator/denominator\".\n",
    "\n",
    "class Fraction:\n",
    "    def __init__(self,numerator,denominator):\n",
    "        self.numerator = numerator\n",
    "        self.denominator = denominator\n",
    "\n",
    "    def __str__(self):\n",
    "        return f'fractions is {self.numerator}/{self.denominator}'\n",
    "        "
   ]
  },
  {
   "cell_type": "code",
   "execution_count": 71,
   "id": "47a35958-8d4b-47c3-b9ae-31e78c448414",
   "metadata": {},
   "outputs": [],
   "source": [
    "c = Fraction(7,4)"
   ]
  },
  {
   "cell_type": "code",
   "execution_count": 79,
   "id": "a4b357da-3255-45e3-aa6d-8a5086e2a1ba",
   "metadata": {},
   "outputs": [
    {
     "name": "stdout",
     "output_type": "stream",
     "text": [
      "fractions is 7/4\n"
     ]
    }
   ],
   "source": [
    "print(c)\n"
   ]
  },
  {
   "cell_type": "code",
   "execution_count": 45,
   "id": "2390a2a4-fb05-4990-801c-fc10061bb923",
   "metadata": {},
   "outputs": [],
   "source": [
    "#Q10.  Demonstrate operator overloading by creating a class Vector and overriding the add method to add two vectors.\n",
    "\n",
    "class Vector:\n",
    "    def __init__(self,i,j,k):\n",
    "        self.i = i\n",
    "        self.j = j\n",
    "        self.k = k\n",
    "\n",
    "    def __str__(self):\n",
    "        return f\"{self.i}i + {self.j}j + {self.k}k\"\n",
    "\n",
    "    def __add__(self,other):\n",
    "        return Vector(self.i + other.i, self.j + other.j, self.k + other.k)\n"
   ]
  },
  {
   "cell_type": "code",
   "execution_count": 47,
   "id": "71a9fd34-cbba-408f-8484-aabb2d0eb97f",
   "metadata": {},
   "outputs": [],
   "source": [
    "V1 = Vector(4,5,7)\n",
    "V2 = Vector(2,3,4)"
   ]
  },
  {
   "cell_type": "code",
   "execution_count": 53,
   "id": "67d7dfd7-004e-4df0-a0ef-6b7d300c8085",
   "metadata": {},
   "outputs": [],
   "source": [
    "r = V1 + V2\n"
   ]
  },
  {
   "cell_type": "code",
   "execution_count": 59,
   "id": "fceed8c2-80c8-4f70-b1c3-0259b6d1c981",
   "metadata": {},
   "outputs": [
    {
     "name": "stdout",
     "output_type": "stream",
     "text": [
      "6i + 8j + 11k\n"
     ]
    }
   ],
   "source": [
    "print(r)"
   ]
  },
  {
   "cell_type": "code",
   "execution_count": 93,
   "id": "fb098864-a0ec-4e1a-8f3f-9b8a8cf0c340",
   "metadata": {},
   "outputs": [],
   "source": [
    "#Q11. Create a class Person with attributes name and age. Add a method greet() that prints \"Hello, my name is  {name} and I am {age} years old.\"\n",
    "\n",
    "class Person:\n",
    "    def __init__(self,name,age):\n",
    "        self.name = name\n",
    "        self.age = age\n",
    "\n",
    "    def greet(self):\n",
    "        print(f\"Hello, my name is {self.name} and I am {self.age} years old\")"
   ]
  },
  {
   "cell_type": "code",
   "execution_count": 99,
   "id": "da7deb25-838d-4d81-9534-9f7940c4436b",
   "metadata": {},
   "outputs": [],
   "source": [
    "p = Person(\"Harsh\",25)"
   ]
  },
  {
   "cell_type": "code",
   "execution_count": 103,
   "id": "86652d90-c771-4669-956a-8249a7f11867",
   "metadata": {},
   "outputs": [
    {
     "name": "stdout",
     "output_type": "stream",
     "text": [
      "Hello, my name is Harsh and I am 25 years old\n"
     ]
    }
   ],
   "source": [
    "p.greet()"
   ]
  },
  {
   "cell_type": "code",
   "execution_count": 131,
   "id": "f00b7e6a-c189-4719-8e7c-474774c2f1b1",
   "metadata": {},
   "outputs": [],
   "source": [
    "#Q12. Implement a class Student with attributes name and grades. Create a method average_grade() to compute the average of the grades.\n",
    "class Student:\n",
    "    def __init__(self,name,grades):\n",
    "        self.name = name\n",
    "        self.grades = grades\n",
    "\n",
    "    def average_grades(self):\n",
    "        return sum(self.grades)/len(self.grades)\n",
    "        \n"
   ]
  },
  {
   "cell_type": "code",
   "execution_count": 155,
   "id": "55833f8f-d59a-449f-ad3c-493785ca02e1",
   "metadata": {},
   "outputs": [],
   "source": [
    "s1 = Student(\"Harsh\",[98,89,92,45])"
   ]
  },
  {
   "cell_type": "code",
   "execution_count": 159,
   "id": "577c34e9-fe22-42f7-ab72-b7b80ad7d384",
   "metadata": {},
   "outputs": [
    {
     "data": {
      "text/plain": [
       "81.0"
      ]
     },
     "execution_count": 159,
     "metadata": {},
     "output_type": "execute_result"
    }
   ],
   "source": [
    "s1.average_grades()"
   ]
  },
  {
   "cell_type": "code",
   "execution_count": 24,
   "id": "e0f0aec6-7275-4ae5-83d1-df634b79afb4",
   "metadata": {},
   "outputs": [],
   "source": [
    "#Q13. Create a class Rectangle with methods set_dimensions() to set the dimensions and area() to calculate the area.\n",
    "\n",
    "class Rectangle:\n",
    "    def __init__(self):\n",
    "        self.length = 0\n",
    "        self.breadth = 0\n",
    "\n",
    "    def set_dimensions(self,length,breadth):\n",
    "        self.length = length\n",
    "        self.breadth = breadth\n",
    "        print(f'the length is {self.length} and breadth is {self.breadth}')\n",
    "    def area(self):\n",
    "        return self.length*self.breadth"
   ]
  },
  {
   "cell_type": "code",
   "execution_count": 26,
   "id": "745e2108-d74c-4c1e-9a40-5f10b7be3339",
   "metadata": {},
   "outputs": [],
   "source": [
    "c = Rectangle()"
   ]
  },
  {
   "cell_type": "code",
   "execution_count": 28,
   "id": "9328b901-a86c-4491-9e3b-b737b43033d9",
   "metadata": {},
   "outputs": [
    {
     "name": "stdout",
     "output_type": "stream",
     "text": [
      "the length is 5 and breadth is 8\n"
     ]
    }
   ],
   "source": [
    "c.set_dimensions(5,8)"
   ]
  },
  {
   "cell_type": "code",
   "execution_count": 30,
   "id": "ef0738b5-7c92-4361-a590-0f566673acdc",
   "metadata": {},
   "outputs": [
    {
     "data": {
      "text/plain": [
       "40"
      ]
     },
     "execution_count": 30,
     "metadata": {},
     "output_type": "execute_result"
    }
   ],
   "source": [
    "c.area()"
   ]
  },
  {
   "cell_type": "code",
   "execution_count": 146,
   "id": "b18ab784-5905-43eb-9542-6ab5180a56db",
   "metadata": {},
   "outputs": [],
   "source": [
    "#Q14.  Create a class Employee with a method calculate_salary() that computes the salary based on hours worked \n",
    "#      and hourly rate. Create a derived class Manager that adds a bonus to the salary.\n",
    "\n",
    "class Employee:\n",
    "    def __init__(self,name,hours, rate=800):\n",
    "        self.name = name\n",
    "        self.hours = hours\n",
    "        self.rate = rate\n",
    "\n",
    "    def calculate_salary(self):\n",
    "        total_salary = self.hours * self.rate\n",
    "        return total_salary\n",
    "\n",
    "class Manager(Employee):\n",
    "    def __init__(self,name,hours,rate=800, bonus = 5000):\n",
    "        super().__init__(name,hours,rate=800)\n",
    "        self.bonus = bonus\n",
    "\n",
    "    def calculate_salary(self):\n",
    "        base_salary = super().calculate_salary()\n",
    "        bonus_salary = base_salary + self.bonus\n",
    "        return bonus_salary\n",
    "        \n",
    "    \n",
    "    \n",
    "    \n"
   ]
  },
  {
   "cell_type": "code",
   "execution_count": 148,
   "id": "6baae1a0-a478-4281-97bc-6389487c2ef7",
   "metadata": {},
   "outputs": [],
   "source": [
    "e1 = Employee(\"harsh\",9)"
   ]
  },
  {
   "cell_type": "code",
   "execution_count": 150,
   "id": "eb268c45-ab6b-460d-bcbf-18b4d5b47690",
   "metadata": {},
   "outputs": [
    {
     "data": {
      "text/plain": [
       "7200"
      ]
     },
     "execution_count": 150,
     "metadata": {},
     "output_type": "execute_result"
    }
   ],
   "source": [
    "e1.calculate_salary()"
   ]
  },
  {
   "cell_type": "code",
   "execution_count": 152,
   "id": "10d0df24-5904-4917-a5ea-d9940c0580d9",
   "metadata": {},
   "outputs": [],
   "source": [
    "m1 = Manager(\"Akki\",15)\n"
   ]
  },
  {
   "cell_type": "code",
   "execution_count": 156,
   "id": "aa0f04b6-ca1b-403c-bca3-d1b26c03d547",
   "metadata": {},
   "outputs": [
    {
     "data": {
      "text/plain": [
       "5000"
      ]
     },
     "execution_count": 156,
     "metadata": {},
     "output_type": "execute_result"
    }
   ],
   "source": [
    "m1.bonus"
   ]
  },
  {
   "cell_type": "code",
   "execution_count": 158,
   "id": "3704ab60-f0fe-4322-a14d-462dbc125984",
   "metadata": {},
   "outputs": [
    {
     "data": {
      "text/plain": [
       "800"
      ]
     },
     "execution_count": 158,
     "metadata": {},
     "output_type": "execute_result"
    }
   ],
   "source": [
    "m1.rate"
   ]
  },
  {
   "cell_type": "code",
   "execution_count": 154,
   "id": "b3b7f283-1099-40a4-a26b-ed3a67ac16e2",
   "metadata": {},
   "outputs": [
    {
     "data": {
      "text/plain": [
       "17000"
      ]
     },
     "execution_count": 154,
     "metadata": {},
     "output_type": "execute_result"
    }
   ],
   "source": [
    "m1.calculate_salary()"
   ]
  },
  {
   "cell_type": "code",
   "execution_count": 190,
   "id": "22423515-1195-4c9d-95a3-e41c2e1f8b3a",
   "metadata": {},
   "outputs": [],
   "source": [
    "#Q15.  Create a class Product with attributes name, price, and quantity. Implement a method total_price() that \n",
    "    #  calculates the total price of the product.\n",
    "\n",
    "class Product:\n",
    "    def __init__(self,name,price,quantity):\n",
    "        self.name = name\n",
    "        self.price = price\n",
    "        self.quantity = quantity\n",
    "\n",
    "    def total_price(self):\n",
    "        total = self.price*self.quantity\n",
    "        print(f'The total price of {self.name} product is {total}')"
   ]
  },
  {
   "cell_type": "code",
   "execution_count": 194,
   "id": "a94ac0b1-a4ae-4d74-af51-c1c1ab647f96",
   "metadata": {},
   "outputs": [],
   "source": [
    "p = Product(\"Pen\",10,245)"
   ]
  },
  {
   "cell_type": "code",
   "execution_count": 202,
   "id": "0a834e62-3b66-432b-9a48-cb5b1fd31647",
   "metadata": {},
   "outputs": [
    {
     "name": "stdout",
     "output_type": "stream",
     "text": [
      "The total price of Pen product is 2450\n"
     ]
    }
   ],
   "source": [
    "p.total_price()"
   ]
  },
  {
   "cell_type": "code",
   "execution_count": 206,
   "id": "a78e0f3b-f5ba-4135-a2f5-c85bbe4eb774",
   "metadata": {},
   "outputs": [],
   "source": [
    "#Q16.  Create a class Animal with an abstract method sound(). Create two derived classes Cow and Sheep that \n",
    "#      implement the sound() method\n",
    "from abc import ABC, abstractmethod\n",
    "\n",
    "class Animal:\n",
    "    @abstractmethod\n",
    "    def sound(self):\n",
    "        pass\n",
    "class Cow(Animal):\n",
    "    def sound(self):\n",
    "        print(\"moo\")\n",
    "\n",
    "class Sheep(Animal):\n",
    "    def sound(self):\n",
    "        print(\"Baa\")\n",
    "        "
   ]
  },
  {
   "cell_type": "code",
   "execution_count": 208,
   "id": "8eaa0e0a-8e29-4bea-ba42-2f9797559898",
   "metadata": {},
   "outputs": [],
   "source": [
    "cow = Cow()\n",
    "sheep = Sheep()"
   ]
  },
  {
   "cell_type": "code",
   "execution_count": 214,
   "id": "937b1f84-cda5-4575-8ba9-fcdd3dc25a8c",
   "metadata": {},
   "outputs": [
    {
     "name": "stdout",
     "output_type": "stream",
     "text": [
      "moo\n",
      "Baa\n"
     ]
    }
   ],
   "source": [
    "cow.sound()\n",
    "sheep.sound()"
   ]
  },
  {
   "cell_type": "code",
   "execution_count": 216,
   "id": "ec1b5901-f426-4264-9a50-b4b4ac600585",
   "metadata": {},
   "outputs": [],
   "source": [
    "#Q17. Create a class Book with attributes title, author, and year_published. Add a method get_book_info() that \n",
    "#     returns a formatted string with the book's details.\n",
    "\n",
    "class Book:\n",
    "    def __init__(self,title,author,year_published):\n",
    "        self.title = title\n",
    "        self.author = author\n",
    "        self.year_published = year_published\n",
    "\n",
    "    def get_book_info(self):\n",
    "        return f\"This is {self.title} book by {self.author} published in {self.year_published}\"\n",
    "    "
   ]
  },
  {
   "cell_type": "code",
   "execution_count": 220,
   "id": "e00ffc71-351f-4320-83e4-0826558c92ff",
   "metadata": {},
   "outputs": [],
   "source": [
    "b1 = Book(\"Data analyst\",\"pwskiils\",\"2018\")"
   ]
  },
  {
   "cell_type": "code",
   "execution_count": 228,
   "id": "521b7741-bb84-4d2e-bec3-6e59f811caba",
   "metadata": {},
   "outputs": [
    {
     "data": {
      "text/plain": [
       "'This is Data analyst book by pwskiils published in 2018'"
      ]
     },
     "execution_count": 228,
     "metadata": {},
     "output_type": "execute_result"
    }
   ],
   "source": [
    "b1.get_book_info()"
   ]
  },
  {
   "cell_type": "code",
   "execution_count": 293,
   "id": "5e24e150-2e79-4fa4-97f4-a3d74c1883f4",
   "metadata": {},
   "outputs": [],
   "source": [
    "#Q18. Create a class House with attributes address and price. Create a derived class Mansion that adds an attribute number_of_rooms\n",
    "\n",
    "class House:\n",
    "    def __init__(self,address,price):\n",
    "        self.address = address\n",
    "        self.price = price\n",
    "class Mansion(House):\n",
    "    def __init__(self,address,price,rooms):\n",
    "        super().__init__(address,price)\n",
    "        self.rooms = rooms\n",
    "    "
   ]
  },
  {
   "cell_type": "code",
   "execution_count": 295,
   "id": "41016de1-cc8a-48a7-afa5-24889d7a24e5",
   "metadata": {},
   "outputs": [],
   "source": [
    "h = House(\"delhi\", \"1lakh\")"
   ]
  },
  {
   "cell_type": "code",
   "execution_count": 297,
   "id": "a7b9e96f-5fc5-4b59-83f3-230e07939b6f",
   "metadata": {},
   "outputs": [],
   "source": [
    "m = Mansion(\"Mumbai\", \"10cr\", \"50\") "
   ]
  },
  {
   "cell_type": "code",
   "execution_count": 305,
   "id": "76e3bd26-b3ba-43b3-b33d-f38778283c84",
   "metadata": {},
   "outputs": [
    {
     "data": {
      "text/plain": [
       "'50'"
      ]
     },
     "execution_count": 305,
     "metadata": {},
     "output_type": "execute_result"
    }
   ],
   "source": [
    "m.rooms"
   ]
  },
  {
   "cell_type": "code",
   "execution_count": 307,
   "id": "e3193ca8-24c7-466e-91b5-1b47876cde6c",
   "metadata": {},
   "outputs": [
    {
     "data": {
      "text/plain": [
       "'10cr'"
      ]
     },
     "execution_count": 307,
     "metadata": {},
     "output_type": "execute_result"
    }
   ],
   "source": [
    "m.price"
   ]
  },
  {
   "cell_type": "code",
   "execution_count": 309,
   "id": "ae1470eb-70a1-496f-bb42-10089bd974a5",
   "metadata": {},
   "outputs": [
    {
     "data": {
      "text/plain": [
       "'Mumbai'"
      ]
     },
     "execution_count": 309,
     "metadata": {},
     "output_type": "execute_result"
    }
   ],
   "source": [
    "m.address"
   ]
  },
  {
   "cell_type": "code",
   "execution_count": null,
   "id": "bfe4bbad-8966-4e05-999a-6d266b29c605",
   "metadata": {},
   "outputs": [],
   "source": []
  }
 ],
 "metadata": {
  "kernelspec": {
   "display_name": "Python [conda env:base] *",
   "language": "python",
   "name": "conda-base-py"
  },
  "language_info": {
   "codemirror_mode": {
    "name": "ipython",
    "version": 3
   },
   "file_extension": ".py",
   "mimetype": "text/x-python",
   "name": "python",
   "nbconvert_exporter": "python",
   "pygments_lexer": "ipython3",
   "version": "3.12.7"
  }
 },
 "nbformat": 4,
 "nbformat_minor": 5
}
